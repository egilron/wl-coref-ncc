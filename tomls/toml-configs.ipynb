{
 "cells": [
  {
   "cell_type": "markdown",
   "metadata": {},
   "source": [
    "## Take the basic toml config file, and make iterations"
   ]
  },
  {
   "cell_type": "code",
   "execution_count": 1,
   "metadata": {},
   "outputs": [],
   "source": [
    "import toml"
   ]
  },
  {
   "cell_type": "code",
   "execution_count": 15,
   "metadata": {},
   "outputs": [
    {
     "name": "stdout",
     "output_type": "stream",
     "text": [
      "data_dir :\t data\n",
      "train_data :\t data/english_train_head.jsonlines\n",
      "dev_data :\t data/english_development_head.jsonlines\n",
      "test_data :\t data/english_test_head.jsonlines\n",
      "device :\t cuda:0\n",
      "bert_model :\t bert-large-cased\n",
      "bert_window_size :\t 512\n",
      "embedding_size :\t 20\n",
      "sp_embedding_size :\t 64\n",
      "a_scoring_batch_size :\t 512\n",
      "hidden_size :\t 1024\n",
      "n_hidden_layers :\t 1\n",
      "max_span_len :\t 64\n",
      "rough_k :\t 50\n",
      "bert_finetune :\t True\n",
      "dropout_rate :\t 0.3\n",
      "bert_learning_rate :\t 1e-05\n",
      "learning_rate :\t 0.0003\n",
      "train_epochs :\t 20\n",
      "bce_loss_weight :\t 0.5\n",
      "conll_log_dir :\t data/conll_logs\n",
      "tokenizer_kwargs :\t {'roberta-large': {'add_prefix_space': True}, 'spanbert-large-cased': {'do_lower_case': False}, 'bert-large-cased': {'do_lower_case': False}}\n"
     ]
    }
   ],
   "source": [
    "source = \"/home/egil/gits_wsl/wl-coref-ncc/config.toml\"\n",
    "dest_folder = \"/home/egil/gits_wsl/wl-coref-ncc/tomls\"\n",
    "\n",
    "with open(source) as rf:\n",
    "    base_toml ={'DEFAULT': toml.loads(rf.read())['DEFAULT']}\n",
    "\n",
    "for key, value in base_toml['DEFAULT'].items():\n",
    "    print(key,\":\\t\", value)"
   ]
  }
 ],
 "metadata": {
  "kernelspec": {
   "display_name": "Python 3.8.13 ('wl-coref')",
   "language": "python",
   "name": "python3"
  },
  "language_info": {
   "codemirror_mode": {
    "name": "ipython",
    "version": 3
   },
   "file_extension": ".py",
   "mimetype": "text/x-python",
   "name": "python",
   "nbconvert_exporter": "python",
   "pygments_lexer": "ipython3",
   "version": "3.8.13"
  },
  "orig_nbformat": 4,
  "vscode": {
   "interpreter": {
    "hash": "eb0bc5864f2c22f379ce753dde65f08012da028e1ec5eee31107dc3ec98f87c6"
   }
  }
 },
 "nbformat": 4,
 "nbformat_minor": 2
}
